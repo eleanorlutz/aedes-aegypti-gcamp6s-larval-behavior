{
 "cells": [
  {
   "cell_type": "code",
   "execution_count": 1,
   "metadata": {
    "collapsed": true
   },
   "outputs": [],
   "source": [
    "import numpy as np\n",
    "import pandas as pd\n",
    "import glob, matplotlib, os, math\n",
    "import matplotlib as mpl\n",
    "import matplotlib.pyplot as plt\n",
    "import matplotlib.patches as pch\n",
    "import matplotlib.backends.backend_pdf as pdf\n",
    "import scipy.stats\n",
    "\n",
    "mpl.rcParams['pdf.fonttype'] = 42\n",
    "mpl.rcParams['ps.fonttype'] = 42\n",
    "\n",
    "%matplotlib inline\n",
    "plt.style.use('./gcamp_figures/figures.mplstyle')"
   ]
  },
  {
   "cell_type": "code",
   "execution_count": 2,
   "metadata": {},
   "outputs": [
    {
     "name": "stdout",
     "output_type": "stream",
     "text": [
      "odor gcamp n= 14\n",
      "odor orco n= 16\n",
      "odor gr3 n= 17\n",
      "food gcamp n= 20\n",
      "food orco n= 20\n",
      "food gr3 n= 16\n",
      "water gcamp n= 20\n",
      "water orco n= 24\n",
      "water gr3 n= 16\n",
      "water wt n= 19\n"
     ]
    }
   ],
   "source": [
    "'''\n",
    "Plotting data from acclimation trials: read in data for each measurement.\n",
    "'''\n",
    "\n",
    "odor = '1-octen-3-ol_100um'\n",
    "df = pd.read_csv('./individual_larva_calculations_GCAMP.csv')\n",
    "df = df[df['dead']== False]\n",
    "\n",
    "# DATA FOR ORCO ANIMALS\n",
    "temp = df[(df['treatment_odor'] == 'milliQ_water_100uL') & (df['background'] == 'orco5_gcamp')]\n",
    "water_orco_A_PI = temp['A_PI_(L-R)'].tolist()\n",
    "water_orco_A_speed = temp['A_mean_speed_mm'].tolist()\n",
    "\n",
    "temp = df[(df['treatment_odor'] == 'filtered_food_odor_100uL') & (df['background'] == 'orco5_gcamp')]\n",
    "food_orco_A_PI = temp['A_PI_(L-R)'].tolist()\n",
    "food_orco_A_speed = temp['A_mean_speed_mm'].tolist()\n",
    "\n",
    "temp = df[(df['treatment_odor'] == odor) & (df['background'] == 'orco5_gcamp')]\n",
    "odor_orco_A_PI = temp['A_PI_(L-R)'].tolist()\n",
    "odor_orco_A_speed = temp['A_mean_speed_mm'].tolist()\n",
    "\n",
    "# DATA FOR GR3 ANIMALS\n",
    "temp = df[(df['treatment_odor'] == 'milliQ_water_100uL') & (df['background'] == 'gr3_gcamp')]\n",
    "water_gr3_A_PI = temp['A_PI_(L-R)'].tolist()\n",
    "water_gr3_A_speed = temp['A_mean_speed_mm'].tolist()\n",
    "\n",
    "temp = df[(df['treatment_odor'] == 'filtered_food_odor_100uL') & (df['background'] == 'gr3_gcamp')]\n",
    "food_gr3_A_PI = temp['A_PI_(L-R)'].tolist()\n",
    "food_gr3_A_speed = temp['A_mean_speed_mm'].tolist()\n",
    "\n",
    "temp = df[(df['treatment_odor'] == odor) & (df['background'] == 'gr3_gcamp')]\n",
    "odor_gr3_A_PI = temp['A_PI_(L-R)'].tolist()\n",
    "odor_gr3_A_speed = temp['A_mean_speed_mm'].tolist()\n",
    "\n",
    "# DATA FOR GCAMP ANIMALS\n",
    "temp = df[(df['treatment_odor'] == 'milliQ_water_100uL') & (df['background'] == 'gcamp')]\n",
    "water_gcamp_A_PI = temp['A_PI_(L-R)'].tolist()\n",
    "water_gcamp_A_speed = temp['A_mean_speed_mm'].tolist()\n",
    "\n",
    "temp = df[(df['treatment_odor'] == 'filtered_food_odor_100uL') & (df['background'] == 'gcamp')]\n",
    "food_gcamp_A_PI = temp['A_PI_(L-R)'].tolist()\n",
    "food_gcamp_A_speed = temp['A_mean_speed_mm'].tolist()\n",
    "\n",
    "temp = df[(df['treatment_odor'] == odor) & (df['background'] == 'gcamp')]\n",
    "odor_gcamp_A_PI = temp['A_PI_(L-R)'].tolist()\n",
    "odor_gcamp_A_speed = temp['A_mean_speed_mm'].tolist()\n",
    "\n",
    "# DATA FOR WT ANIMALS\n",
    "temp = df[(df['treatment_odor'] == 'milliQ_water_100uL') & (df['background'] == 'wt')]\n",
    "water_wt_A_PI = temp['A_PI_(L-R)'].tolist()\n",
    "water_wt_A_speed = temp['A_mean_speed_mm'].tolist()\n",
    "\n",
    "# PRINT NS OF TREATMENTS\n",
    "print('odor gcamp n=', len(odor_gcamp_A_PI))\n",
    "print('odor orco n=', len(odor_orco_A_PI))\n",
    "print('odor gr3 n=', len(odor_gr3_A_PI))\n",
    "print('food gcamp n=', len(food_gcamp_A_PI))\n",
    "print('food orco n=', len(food_orco_A_PI))\n",
    "print('food gr3 n=', len(food_gr3_A_PI))\n",
    "print('water gcamp n=', len(water_gcamp_A_PI))\n",
    "print('water orco n=', len(water_orco_A_PI))\n",
    "print('water gr3 n=', len(water_gr3_A_PI))\n",
    "print('water wt n=', len(water_wt_A_PI))"
   ]
  },
  {
   "cell_type": "code",
   "execution_count": 3,
   "metadata": {
    "collapsed": true
   },
   "outputs": [],
   "source": [
    "'''\n",
    "Declare design variables that are the same for each plot\n",
    "'''\n",
    "\n",
    "labels = ['Water','Food','1-octen-3-ol'] * 3 # doubled for acclimate // experiment \n",
    "labels = labels + ['Water'] # add WT animals treatment\n",
    "\n",
    "color1 = '#c1c1c1' # acclimate\n",
    "color2 = '#4286f4' # experiment\n",
    "color3 = '#666666' # dark acclimate\n",
    "color4 = '#1f5dc1' # dark experiment\n",
    "\n",
    "w = 2 # line weight for mean line on plots\n",
    "width = 0.5 # width of the data rectangles\n",
    "pgap = 0.05 # space between data and significance notation (* / NS)\n",
    "\n",
    "def add_square(sub, position, val, text=None, pgap=pgap):\n",
    "    ''' Add rectangle to graph with mean and SE for the given dataset '''\n",
    "    mean = np.mean(val)\n",
    "    se = scipy.stats.sem(val, nan_policy='omit')\n",
    "    sub.add_patch(pch.Rectangle((position-width/2, mean-se), width, se*2, fc=color1, ec='none'))\n",
    "    sub.plot([position-width/2, position+width/2], [mean, mean], color=color3, lw=w)\n",
    "    if text is not None:\n",
    "        sub.text(s=text, x=position, y=mean+se+pgap, ha='center', va='center')"
   ]
  },
  {
   "cell_type": "code",
   "execution_count": 4,
   "metadata": {
    "scrolled": false
   },
   "outputs": [
    {
     "data": {
      "image/png": "[encoded data removed]",
      "text/plain": [
       "<matplotlib.figure.Figure at 0x7fd330638710>"
      ]
     },
     "metadata": {},
     "output_type": "display_data"
    }
   ],
   "source": [
    "fig= plt.figure(figsize=(20, 6))\n",
    "sub1 = fig.add_subplot(121)\n",
    "sub2 = fig.add_subplot(122)\n",
    "\n",
    "sub1.set_ylabel('PI', color='k')\n",
    "sub1.set_ylim(-1, 1)\n",
    "sub2.set_ylabel('Mean speed (mm/s)', color='k')\n",
    "sub2.set_ylim(0, 5.5)\n",
    "\n",
    "# Add PI data for each treatment group, as well as the significance\n",
    "add_square(sub1, 1,  water_gcamp_A_PI)\n",
    "add_square(sub1, 2,  food_gcamp_A_PI)\n",
    "add_square(sub1, 3,  odor_gcamp_A_PI)\n",
    "\n",
    "add_square(sub1, 4,  water_gr3_A_PI)\n",
    "add_square(sub1, 5,  food_gr3_A_PI)\n",
    "add_square(sub1, 6,  odor_gr3_A_PI)\n",
    "\n",
    "add_square(sub1, 7,  water_orco_A_PI)\n",
    "add_square(sub1, 8,  food_orco_A_PI)\n",
    "add_square(sub1, 9,  odor_orco_A_PI)\n",
    "\n",
    "add_square(sub1, 10, water_wt_A_PI)\n",
    "\n",
    "# Add speed data for each treatment group, as well as the significance\n",
    "add_square(sub2, 1,  water_gcamp_A_speed)\n",
    "add_square(sub2, 2,  food_gcamp_A_speed)\n",
    "add_square(sub2, 3,  odor_gcamp_A_speed)\n",
    "\n",
    "add_square(sub2, 4,  water_gr3_A_speed)\n",
    "add_square(sub2, 5,  food_gr3_A_speed)\n",
    "add_square(sub2, 6,  odor_gr3_A_speed)\n",
    "\n",
    "add_square(sub2, 7,  water_orco_A_speed)\n",
    "add_square(sub2, 8,  food_orco_A_speed)\n",
    "add_square(sub2, 9,  odor_orco_A_speed)\n",
    "\n",
    "add_square(sub2, 10, water_wt_A_speed)\n",
    "\n",
    "for sub in [sub1, sub2]:\n",
    "    sub.spines['bottom'].set_position(('axes', -0.05))\n",
    "    sub.tick_params(axis='x', which='minor', bottom='off')\n",
    "    sub.set_xlim(0.5, 10.5)\n",
    "    sub.set_xticklabels(labels, rotation=90)\n",
    "    sub.set_xticks(np.arange(1, len(labels)+1, 1))\n",
    "    \n",
    "    # add vertical lines and text eperating the genetic lines\n",
    "    ymin, ymax = sub.get_ylim()\n",
    "    for x in [3.5, 6.5, 9.5]:\n",
    "        sub.axvline(x=x, ymin=-1, ymax=1, lw=1, ls='solid', color=color3)\n",
    "\n",
    "for sub, loc in zip([sub1, sub2], [1, 5.5]):\n",
    "    sub.text(2, loc, 'GCaMP6s\\n+/+', ha='center', va='top', size='smaller', color='k')\n",
    "    sub.text(5, loc, 'GCaMP6s\\nGr3-/-', ha='center', va='top', size='smaller', color='k')\n",
    "    sub.text(8, loc, 'GCaMP6s\\norco5-/-', ha='center', va='top', size='smaller', color='k')\n",
    "    sub.text(10, loc, 'wt', ha='center', va='top', size='smaller', color='k')\n",
    "\n",
    "plt.subplots_adjust(left=None, bottom=None, right=None, top=None, wspace=None, hspace=0.2)\n",
    "pp = pdf.PdfPages('./gcamp_figures/Supplemental_figure_5_PI_speed.pdf')\n",
    "pp.savefig(fig)\n",
    "pp.close()\n",
    "\n",
    "plt.show()\n",
    "plt.clf()\n",
    "plt.close('all')"
   ]
  },
  {
   "cell_type": "code",
   "execution_count": null,
   "metadata": {
    "collapsed": true
   },
   "outputs": [],
   "source": []
  }
 ],
 "metadata": {
  "kernelspec": {
   "display_name": "Python 3",
   "language": "python",
   "name": "python3"
  },
  "language_info": {
   "codemirror_mode": {
    "name": "ipython",
    "version": 3
   },
   "file_extension": ".py",
   "mimetype": "text/x-python",
   "name": "python",
   "nbconvert_exporter": "python",
   "pygments_lexer": "ipython3",
   "version": "3.5.2"
  }
 },
 "nbformat": 4,
 "nbformat_minor": 2
}
