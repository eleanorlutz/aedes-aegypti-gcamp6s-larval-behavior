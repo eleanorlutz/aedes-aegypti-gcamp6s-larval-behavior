{
 "cells": [
  {
   "cell_type": "code",
   "execution_count": 1,
   "metadata": {},
   "outputs": [
    {
     "name": "stdout",
     "output_type": "stream",
     "text": [
      "1.5.1\n",
      "recommended version: 1.1.1 or greater\n"
     ]
    }
   ],
   "source": [
    "# Kernel should be set to Python 2 to accomodate Multitracker\n",
    "\n",
    "import multi_tracker_analysis as mta\n",
    "import numpy as np\n",
    "import pandas as pd\n",
    "import matplotlib.pyplot as plt\n",
    "from moviepy.editor import *\n",
    "import glob, math, os\n",
    "from __future__ import division"
   ]
  },
  {
   "cell_type": "markdown",
   "metadata": {},
   "source": [
    "#### Usage notes for Multitracker\n",
    "Multitracker requires ROS (roslib) to run. However, ros kinetic changes the python path during setup, which causes issues with running OpenCV (cv2). The Anaconda3 install on the lab Ubuntu computer currently doesn't run CV2 and ROS concurrently from the same environment. To switch between the two, open the /home/username/.bashrc file (use Ctrl-H to see hidden files in Ubuntu Files). Comment out the ros/kinetic/source lines when using CV2, and reopen a new Jupyter Notebook to allow the changes to go into effect. "
   ]
  },
  {
   "cell_type": "code",
   "execution_count": 2,
   "metadata": {
    "scrolled": false
   },
   "outputs": [
    {
     "name": "stdout",
     "output_type": "stream",
     "text": [
      "Script finished running!\n"
     ]
    }
   ],
   "source": [
    "'''\n",
    "Translate Multitracker hdf5 files into Pandas dataframes and save to CSV.\n",
    "This script will only run the analyses for files that have not been analyzed yet. \n",
    "When all files have already been analyzed there will be no Multitracker output. \n",
    "'''\n",
    "\n",
    "fnames = glob.glob('/home/eleanor/Documents/gcamp_analysis_files_finished/*/data/')\n",
    "df_names = pd.read_csv('./static_data_all_GCAMP.csv')\n",
    "\n",
    "for n in range(0, len(fnames)):\n",
    "    fname = fnames[n]\n",
    "    name = fname[54:-6]\n",
    "    \n",
    "    videoname = '/home/eleanor/Documents/gcamp_videos/' + name + '.avi'\n",
    "    savename = './gcamp_video_csvs/'+ name +'.csv'\n",
    "    \n",
    "    # Do not overwrite video files that have already been made and reviewed\n",
    "    if not os.path.isfile(savename):\n",
    "        df, config = mta.read_hdf5_file_to_pandas.load_and_preprocess_data(fname)\n",
    "\n",
    "        video_clip = VideoFileClip(videoname)\n",
    "        frame = np.array(video_clip.get_frame(0).astype(float))\n",
    "        video_width, video_height = len(frame[0]), len(frame)\n",
    "        df['pixel_width'] = video_width\n",
    "        df['pixel_height'] = video_height\n",
    "        \n",
    "        # Mark frames detected by Multitracker to differentiate from manually entered frames.\n",
    "        df['manual_tracker_fix'] = False\n",
    "        \n",
    "        # remove default columns added by multitracker that are not relevant or not calibrated to the data\n",
    "        del df['angle'], df['area'], df['time_epoch'], df['time_epoch_nsecs'], df['time_epoch_secs'], \\\n",
    "        df['speed'], df['velocity_x'], df['velocity_y']\n",
    "\n",
    "        df.to_csv(savename, index=False)\n",
    "        del video_clip.reader, video_clip\n",
    "        \n",
    "print('Script finished running!')"
   ]
  },
  {
   "cell_type": "code",
   "execution_count": 3,
   "metadata": {
    "scrolled": false
   },
   "outputs": [
    {
     "name": "stdout",
     "output_type": "stream",
     "text": [
      "---\n",
      "0 files have errors, out of 402 total files\n"
     ]
    }
   ],
   "source": [
    "'''\n",
    "Multitracker will not register objects until they begin to move.\n",
    "In some videos, larvae do not start to move until several seconds into the experiment. \n",
    "Each of these videos were manually inspected to confirm lack of movement in the initial frames.\n",
    "Next, the tracker's position when the larva was first detected was propagated to \n",
    "the beginning of the movie. \n",
    "All manually corrected frames are marked with ['manual_tracker_fix'] == True.\n",
    "'''\n",
    "\n",
    "# Print all files with missing frames for manual inspection. \n",
    "fnames = sorted(glob.glob('./gcamp_video_csvs/*.csv'))[::-1] # reversed list for alphabetical sorting\n",
    "error_fnames = []\n",
    "count = 0\n",
    "\n",
    "for name in fnames:\n",
    "    df = pd.read_csv(name)\n",
    "    missed = 1799 - len(df)\n",
    "    if missed > 2: # first frame is always missing because of background subtraction. \n",
    "        error_fnames.append(name[19:])\n",
    "        print name[19:], ':', 1799-len(df), 'frames missing'\n",
    "        count += 1\n",
    "        \n",
    "print '---'\n",
    "print count, 'files have errors, out of', len(fnames), 'total files'"
   ]
  },
  {
   "cell_type": "code",
   "execution_count": 4,
   "metadata": {},
   "outputs": [
    {
     "name": "stdout",
     "output_type": "stream",
     "text": [
      "Finished analyzing 142 files!\n",
      "Rewrote 0 files!\n"
     ]
    }
   ],
   "source": [
    "'''\n",
    "If the video has been manually checked to see if it has a long period of \n",
    "no motion at the beginning, then we can automatically propagate the first frame\n",
    "data point backwards to the beginning of the video. \n",
    "This script will only rewrite files with missing frames, so if it has already been run\n",
    "for this dataset the output should rewrite 0 files. \n",
    "'''\n",
    "\n",
    "checked = pd.read_csv('./manually_checked_beginning_pause.csv')\n",
    "checked_fnames = checked['filename'].tolist()\n",
    "count = 0\n",
    "\n",
    "for name in checked_fnames: \n",
    "    name_readable = \"./gcamp_video_csvs/\"+name+\".csv\"\n",
    "    df = pd.read_csv(name_readable)\n",
    "\n",
    "    frames = df['frames'].tolist()\n",
    "    fmin = min(frames)\n",
    "    fmin_row = df[df['frames'] == fmin]\n",
    "    assert len(fmin_row) == 1\n",
    "    \n",
    "    if fmin > 2:\n",
    "        for n in range(2, fmin):\n",
    "            fmin_copy = fmin_row.copy()\n",
    "            fmin_copy.ix[0, \"objid\"] = \"manual\"\n",
    "            fmin_copy.ix[0, \"frames\"] = n\n",
    "            df = df.append(fmin_copy)\n",
    "            \n",
    "        df = df.sort_values(by=\"frames\")\n",
    "        df.to_csv(name_readable, index=False)\n",
    "        count += 1\n",
    "    \n",
    "print('Finished analyzing '+str(len(checked_fnames))+' files!')\n",
    "print('Rewrote '+str(count)+' files!')"
   ]
  },
  {
   "cell_type": "code",
   "execution_count": 5,
   "metadata": {},
   "outputs": [
    {
     "name": "stdout",
     "output_type": "stream",
     "text": [
      "Finished calculating all analyses!\n"
     ]
    }
   ],
   "source": [
    "'''\n",
    "Add some rudimentary analyses such as instantaneous speed.\n",
    "Calculations are saved in a CSV copy rather than rewriting the original.\n",
    "'''\n",
    "\n",
    "fnames = glob.glob('./gcamp_video_csvs/*.csv')\n",
    "\n",
    "def hypotenuse(leg1, leg2):\n",
    "    '''Calculate the hypotenuse given two side lengths'''\n",
    "    hyp = np.sqrt(leg1**2 + leg2**2)\n",
    "    return(hyp)\n",
    "\n",
    "for n in range(0, len(fnames)):\n",
    "    fname = fnames[n]\n",
    "    name = fname[19:-4]\n",
    "    \n",
    "    readname = './gcamp_video_csvs/' + name + '.csv'\n",
    "    savename = './gcamp_video_calculations/'+ name +'.csv'\n",
    "\n",
    "    df = pd.read_csv(readname)\n",
    "\n",
    "    # convert pixel position to mm using the cropped video size as reference\n",
    "    df['pos_x_mm'] = 80*df['position_x']/df['pixel_width'] # arena is 80mm wide\n",
    "    df['pos_y_mm'] = 30*df['position_y']/df['pixel_height'] # arena is 30mm high\n",
    "    df['pos_x_mm_pre'] = df.pos_x_mm.shift(1)\n",
    "    df['pos_y_mm_pre'] = df.pos_y_mm.shift(1)\n",
    "\n",
    "    # sometimes the tracker guess goes slightly off screen but this is not physically possible\n",
    "    # because the larva is contained within the arena bounds. \n",
    "    df['zeroed_x_mm'] = df['pos_x_mm'].clip(lower=0, upper=80)\n",
    "    df['zeroed_y_mm'] = df['pos_y_mm'].clip(lower=0, upper=30)\n",
    "    df['zeroed_x_mm_pre'] = df.zeroed_x_mm.shift(1)\n",
    "    df['zeroed_y_mm_pre'] = df.zeroed_y_mm.shift(1)\n",
    "\n",
    "    # speed calculations\n",
    "    df['height'] = abs(df['zeroed_y_mm'] - df['zeroed_y_mm_pre'])\n",
    "    df['width'] = abs(df['zeroed_x_mm'] - df['zeroed_x_mm_pre'])\n",
    "    df['speed_EL'] = hypotenuse(df.height, df.width)\n",
    "\n",
    "    # remove columns used to generate the final calculations because we no longer need them\n",
    "    del df['zeroed_x_mm_pre'], df['zeroed_y_mm_pre'], df['height'], df['width']\n",
    "    del df['pos_x_mm_pre'], df['pos_y_mm_pre']\n",
    "\n",
    "    df.to_csv(savename, index=False)\n",
    "    \n",
    "print('Finished calculating all analyses!')"
   ]
  },
  {
   "cell_type": "code",
   "execution_count": null,
   "metadata": {
    "collapsed": true
   },
   "outputs": [],
   "source": []
  }
 ],
 "metadata": {
  "kernelspec": {
   "display_name": "Python 2",
   "language": "python",
   "name": "python2"
  },
  "language_info": {
   "codemirror_mode": {
    "name": "ipython",
    "version": 2
   },
   "file_extension": ".py",
   "mimetype": "text/x-python",
   "name": "python",
   "nbconvert_exporter": "python",
   "pygments_lexer": "ipython2",
   "version": "2.7.12"
  }
 },
 "nbformat": 4,
 "nbformat_minor": 2
}
